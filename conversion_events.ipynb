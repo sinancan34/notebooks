{
  "nbformat": 4,
  "nbformat_minor": 0,
  "metadata": {
    "colab": {
      "provenance": [],
      "mount_file_id": "1wt_67Kl-rzIe1yAVUAE2gyuyLTCXkzCJ",
      "authorship_tag": "ABX9TyPshAfVy4Ar2Y28s8yKoqYF"
    },
    "kernelspec": {
      "name": "python3",
      "display_name": "Python 3"
    },
    "language_info": {
      "name": "python"
    }
  },
  "cells": [
    {
      "cell_type": "code",
      "source": [
        "!pip install --upgrade google-analytics-admin"
      ],
      "metadata": {
        "id": "05caVmjlPlow"
      },
      "execution_count": null,
      "outputs": []
    },
    {
      "cell_type": "code",
      "source": [
        "import os\n",
        "\n",
        "from google.analytics.admin import AnalyticsAdminServiceClient\n",
        "\n",
        "os.environ[\"GOOGLE_APPLICATION_CREDENTIALS\"] = \"/content/drive/MyDrive/Colab Notebooks/service-account.json\"\n",
        "\n",
        "if __name__ == \"__main__\":\n",
        "  client_analytics_admin = AnalyticsAdminServiceClient()\n",
        "\n",
        "  accounts = client_analytics_admin.list_accounts()\n",
        "\n",
        "  print(accounts)"
      ],
      "metadata": {
        "id": "3EvxKzE-Qfv4"
      },
      "execution_count": null,
      "outputs": []
    },
    {
      "cell_type": "code",
      "source": [
        "import os\n",
        "import pandas\n",
        "\n",
        "from google.analytics.admin import AnalyticsAdminServiceClient\n",
        "from google.analytics.admin_v1alpha.types import ListPropertiesRequest\n",
        "\n",
        "os.environ[\"GOOGLE_APPLICATION_CREDENTIALS\"] = \"/content/drive/MyDrive/Colab Notebooks/service-account.json\"\n",
        "\n",
        "account_id = 12345\n",
        "\n",
        "if __name__ == \"__main__\":\n",
        "  client_analytics_admin = AnalyticsAdminServiceClient()\n",
        "\n",
        "  properties = client_analytics_admin.list_properties(\n",
        "    ListPropertiesRequest(filter=f\"parent:accounts/{account_id}\", show_deleted=True)\n",
        "  )\n",
        "\n",
        "  _conversion_events = []\n",
        "  for property in properties:\n",
        "    conversion_events = client_analytics_admin.list_conversion_events(parent = property.name)\n",
        "\n",
        "    _conversion_event = []\n",
        "    for conversion_event in conversion_events:\n",
        "      _conversion_event.append({'property': property.display_name, 'event_name': conversion_event.event_name, 'is_custom': conversion_event.custom, 'counting_method': conversion_event.counting_method})\n",
        "\n",
        "    _conversion_events.extend(_conversion_event)\n",
        "\n",
        "  df = pandas.DataFrame(_conversion_events)\n",
        "  df['counting_method'] = df['counting_method'].map({1: \"event\", 2: \"session\"})\n"
      ],
      "metadata": {
        "id": "i4gYNh6dTsTv"
      },
      "execution_count": null,
      "outputs": []
    },
    {
      "cell_type": "code",
      "source": [
        "df.to_excel('/content/drive/MyDrive/reports/conversion_events.xlsx', index=False)"
      ],
      "metadata": {
        "id": "8I2jXaPwXsTa"
      },
      "execution_count": null,
      "outputs": []
    }
  ]
}