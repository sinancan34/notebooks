{
  "nbformat": 4,
  "nbformat_minor": 0,
  "metadata": {
    "colab": {
      "provenance": [],
      "mount_file_id": "1flruW7F-l5qM_28wJXuB7ij_VFZdn4zQ",
      "authorship_tag": "ABX9TyMHatBGQlJpw1N09BtYJ91y"
    },
    "kernelspec": {
      "name": "python3",
      "display_name": "Python 3"
    },
    "language_info": {
      "name": "python"
    }
  },
  "cells": [
    {
      "cell_type": "code",
      "execution_count": null,
      "metadata": {
        "id": "eE9yskmv1nZ2"
      },
      "outputs": [],
      "source": [
        "!pip install --upgrade google-ads"
      ]
    },
    {
      "cell_type": "code",
      "source": [
        "import os\n",
        "import json\n",
        "import pickle\n",
        "\n",
        "import google.ads.googleads.client\n",
        "import google.protobuf.json_format\n",
        "\n",
        "if __name__ == \"__main__\":\n",
        "  os.environ[\"GOOGLE_ADS_CONFIGURATION_FILE_PATH\"] = \"/content/drive/MyDrive/Colab Notebooks/google-ads.yaml\"\n",
        "\n",
        "  directory_search_volume = '/content/drive/MyDrive/Colab Notebooks/search_volume/'\n",
        "\n",
        "  files_all = os.listdir(directory_search_volume)\n",
        "  files_keyword = [f for f in files_all if f.startswith('keywords_')]\n",
        "\n",
        "  for file_keyword in files_keyword:\n",
        "\n",
        "    with open(directory_search_volume + file_keyword, 'r') as file_keywords:\n",
        "      keywords = file_keywords.read().splitlines()\n",
        "\n",
        "      client_google_ads = google.ads.googleads.client.GoogleAdsClient.load_from_storage(version=\"v15\")\n",
        "\n",
        "      service_google_ads = client_google_ads.get_service(\"GoogleAdsService\")\n",
        "      service_keyword_plan_idea = client_google_ads.get_service(\"KeywordPlanIdeaService\")\n",
        "\n",
        "      request_generate_keyword_historical_metrics = client_google_ads.get_type(\"GenerateKeywordHistoricalMetricsRequest\")\n",
        "      request_generate_keyword_historical_metrics.customer_id = '1234567'\n",
        "      request_generate_keyword_historical_metrics.keywords = keywords\n",
        "      request_generate_keyword_historical_metrics.geo_target_constants.append(service_google_ads.geo_target_constant_path(\"2792\"))\n",
        "      request_generate_keyword_historical_metrics.keyword_plan_network = (client_google_ads.enums.KeywordPlanNetworkEnum.GOOGLE_SEARCH)\n",
        "      request_generate_keyword_historical_metrics.language = service_google_ads.language_constant_path(\"1037\")\n",
        "\n",
        "      response_generate_keyword_historical_metrics = service_keyword_plan_idea.generate_keyword_historical_metrics(request = request_generate_keyword_historical_metrics)\n",
        "      response_generate_keyword_historical_metrics_json = type(response_generate_keyword_historical_metrics).to_json(response_generate_keyword_historical_metrics)\n",
        "\n",
        "      with open(directory_search_volume + 'pickle_' + file_keyword, 'wb') as file:\n",
        "        pickle.dump(response_generate_keyword_historical_metrics_json, file)\n"
      ],
      "metadata": {
        "id": "nUFmgbAwcSRR"
      },
      "execution_count": null,
      "outputs": []
    },
    {
      "cell_type": "code",
      "source": [
        "import pandas\n",
        "\n",
        "with open('/content/drive/MyDrive/Colab Notebooks/search_volume/pickle_keywords_4', 'rb') as file:\n",
        "  json_data = json.loads(pickle.load(file))\n",
        "\n",
        "def extract_data_v3(entry):\n",
        "    text = entry.get('text', None)\n",
        "    close_variants = entry.get('closeVariants', [])\n",
        "    monthly_search_volumes = entry.get('keywordMetrics', {}).get('monthlySearchVolumes', [])\n",
        "\n",
        "    if not close_variants:\n",
        "        close_variants = [text]\n",
        "\n",
        "    extracted_data = []\n",
        "    for volume in monthly_search_volumes:\n",
        "        year = volume.get('year', None)\n",
        "        month = volume.get('month', None)\n",
        "        search_volume = volume.get('monthlySearches', None)\n",
        "        date = f\"{year}-{month:02d}\" if year and month else None\n",
        "\n",
        "        for variant in close_variants:\n",
        "            if variant and date and search_volume is not None:\n",
        "                extracted_data.append({'google_keyword': text, 'date': date, 'search_volume': search_volume, 'entered_keyword': variant})\n",
        "    return extracted_data\n",
        "\n",
        "extracted_data_v3 = []\n",
        "for entry in json_data.get('results', []):\n",
        "    extracted_data_v3.extend(extract_data_v3(entry))\n",
        "\n",
        "df_v3 = pandas.DataFrame(extracted_data_v3)"
      ],
      "metadata": {
        "id": "8i9J-xhvScwf"
      },
      "execution_count": null,
      "outputs": []
    },
    {
      "cell_type": "code",
      "source": [
        "df_v3.to_excel('/content/drive/MyDrive/Colab Notebooks/search_volume/search_volume_4.xlsx', index=False)"
      ],
      "metadata": {
        "id": "oB1NJAbsjwTf"
      },
      "execution_count": null,
      "outputs": []
    }
  ]
}